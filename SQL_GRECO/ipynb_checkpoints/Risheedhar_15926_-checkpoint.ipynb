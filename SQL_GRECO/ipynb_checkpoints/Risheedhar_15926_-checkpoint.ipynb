{
 "cells": [
  {
   "cell_type": "markdown",
   "id": "e0eb0674",
   "metadata": {},
   "source": [
    "# SQL-GRECO "
   ]
  },
  {
   "cell_type": "code",
   "execution_count": 6,
   "id": "8061baea",
   "metadata": {},
   "outputs": [
    {
     "data": {
      "text/plain": [
       "312357"
      ]
     },
     "execution_count": 6,
     "metadata": {},
     "output_type": "execute_result"
    }
   ],
   "source": [
    "# Importing Libraries \n",
    "import pandas as pd\n",
    "import sqlite3 as sql\n",
    "\n",
    "# Read csv files using Pandas\n",
    "campaign_desc= pd.read_csv(f\"./campaign_desc.csv\")\n",
    "campaign_table = pd.read_csv(f\"./campaign_table.csv\")\n",
    "coupon = pd.read_csv(f\"./coupon.csv\")\n",
    "coupon_redempt = pd.read_csv(f\"./coupon_redempt.csv\")\n",
    "hh_demographic = pd.read_csv(f\"./hh_demographic.csv\")\n",
    "product = pd.read_csv(f\"./product.csv\")\n",
    "transactions = pd.read_csv(f\"./transactions.csv\")\n",
    "\n",
    "# Creating a SQLite Database Connection:\n",
    "database = './Database.db'\n",
    "connection_obj = sql.connect(database)\n",
    " \n",
    "# Cursor Object\n",
    "cursor_obj = connection_obj.cursor()\n",
    "\n",
    "# Converting the DataFrames to SQL DB\n",
    "campaign_desc.to_sql('campaign_desc', connection_obj, if_exists='replace', index = False)\n",
    "campaign_table.to_sql('campaign_table', connection_obj, if_exists='replace', index = False)\n",
    "coupon.to_sql('coupon', connection_obj, if_exists='replace', index = False)\n",
    "coupon_redempt.to_sql('coupon_redempt', connection_obj, if_exists='replace', index = False)\n",
    "hh_demographic.to_sql('hh_demographic', connection_obj, if_exists='replace', index = False)\n",
    "product.to_sql('product', connection_obj, if_exists='replace', index = False)\n",
    "transactions.to_sql('transactions', connection_obj, if_exists='replace', index = False)"
   ]
  },
  {
   "cell_type": "markdown",
   "id": "ae7a93fe",
   "metadata": {},
   "source": [
    "## Data dictionary ##\n",
    "\n",
    "### Transaction ###\n",
    "- `household_key`: The key indicating the household (customer) who bought the product\n",
    "- `BASKET_ID`: The basket (bill) this item was sold as a part of\n",
    "- `DAY`: Day (in absolute numbers)\n",
    "- `PRODUCT_ID`: Product code\n",
    "- `QUANTITY`: No. of units sold\n",
    "- `SALES_VALUE`: Value of the sale in $\n",
    "- `STORE_ID`: Store code\n",
    "- `RETAIL_DISC`: Discount applied on the item (not as a part of a coupon/campaign)\n",
    "- `TRANS_TIME`: Time of the sale (in HHMM format)\n",
    "- `WEEK_NO`: Week number\n",
    "- `COUPON_DISC`: Discount applied on the item as part of a coupon\n",
    "\n",
    "### Product ###\n",
    "- `PRODUCT_ID`: Product code\n",
    "- `MANUFACTURER`: Manufacturer code\n",
    "- `DEPARTMENT`: Department of the product\n",
    "- `BRAND`: Brand type of the product – National or Private label\n",
    "- `COMMODITY_DESC`: Product commodity type description\n",
    "- `SUB_COMMODITY_DESC`: Product sub-commodity type description\n",
    "- `CURR_SIZE_OF_PRODUCT`: Size of the product – In various units\n",
    "\n",
    "### Coupon ###\n",
    "- `COUPON_UPC`: Coupon Code\n",
    "- `PRODUCT_ID`: Product that this code was applicable to\n",
    "- `CAMPAIGN`: Campaign in which this coupon was offered\n",
    "\n",
    "### Coupon_redempt ###\n",
    "- `household_key`: The household (customer) who redeemed this coupon\n",
    "- `DAY`: Day on which the coupon was redeemed\n",
    "- `COUPON_UPC`: Coupon Code\n",
    "- `CAMPAIGN`: Campaign in which this coupon was offered\n",
    "\n",
    "### hh_demographic ###\n",
    "- `AGE_DESC`: Age group of the household\n",
    "- `INCOME_DESC`: Income range of the household\n",
    "- `HOMEOWNER_DESC`: Housing status of the household – Renter/Homeowner etc.\n",
    "- `HH_COMP_DESC`: Composition of the people in the household\n",
    "- `HOUSEHOLD_SIZE_DESC`: Number of people in the household\n",
    "- `KID_CATEGORY_DESC`: Number of kids in the household if any\n",
    "- `household_key`: Household (customer) code\n",
    "\n",
    "### Campaign_table ###\n",
    "- `DESCRIPTION`: Type of the campaign\n",
    "- `household_key`: Household(s) this campaign was applicable to\n",
    "- `CAMPAIGN`: Campaign code\n",
    "\n",
    "### Campaign_desc ###\n",
    "- `DESCRIPTION`: Type of the campaign\n",
    "- `CAMPAIGN`: Campaign code\n",
    "- `START_DAY`: Start date of the campaign\n",
    "- `END_DAY`: End date of the campaign\n"
   ]
  },
  {
   "cell_type": "markdown",
   "id": "848c3121",
   "metadata": {},
   "source": [
    "### Questions "
   ]
  },
  {
   "cell_type": "markdown",
   "id": "03340ccc",
   "metadata": {},
   "source": [
    "1.\tWhich are the top 3 manufacturers for the retailer in terms of number of products produced? * distinct \n",
    "2.\tTotal number of days that each type of campaign (Type A, Type B & Type C) ran. Which campaign \n",
    "    (Not desc, the campaign e.g., 8,26 etc.) ran for most days?\n",
    "3.\tHow many coupons are mapped to each Campaign type? (e.g., Type A - 20 etc.)\n",
    "4.\tHow much has the company spent on retail discounts and campaign-based discounts? Which is higher?\n",
    "5.\tWhat is the distribution of low, medium & high-income houses targeted by each type of campaign? \n",
    "    (Default - Low < 40K, Medium 40K to 80K & High 80K<) {you could change the default threshold, \n",
    "    just provide the reasoning for new threshold in the comments. Extra credits will be provided for improved thresholds}\n",
    "6.\tWhat is the distribution of purchase value for Single, Adults with no kids, Adults with kids’ households? \n",
    "7.\tWhat are the total sales generated by products have no defined size of the product?\n",
    "8.\tWhich is the busiest hour of sales across all stores? Justify your approach in comments.\n",
    "9.\tAssuming Day = 0 to be Jan 1, 2020, how much sales was made in December 2020?\n",
    "10.\tFind the number of households who have made purchases in any number of consecutive weeks\n",
    "11.\tDoes the increase in number of kids in a household correspond to a higher average purchase value \n",
    "    of each purchase by a household? (Calculate for each purchase and not each item)\n",
    "12.\tWere there any number of coupons not redeemed by customers? If so, how many?\n",
    "13.\tWhat were the two items were most frequently purchased together? If there’s more than one, \n",
    "    display top 5 in order of product ID.\n",
    "14.\tAssuming cost to run all three types of campaign is same, which campaign turned out to be \n",
    "    most profitable for the retailer? Justify your approach in the comments\n",
    "15. What is the average % increase/decrease in sales value (of each purchase by a household) in all purchases \n",
    "    following a purchase with a discount applied from a coupon? ** ( Omitted Question )"
   ]
  },
  {
   "cell_type": "code",
   "execution_count": 7,
   "id": "44e47b02",
   "metadata": {},
   "outputs": [
    {
     "data": {
      "text/html": [
       "<div>\n",
       "<style scoped>\n",
       "    .dataframe tbody tr th:only-of-type {\n",
       "        vertical-align: middle;\n",
       "    }\n",
       "\n",
       "    .dataframe tbody tr th {\n",
       "        vertical-align: top;\n",
       "    }\n",
       "\n",
       "    .dataframe thead th {\n",
       "        text-align: right;\n",
       "    }\n",
       "</style>\n",
       "<table border=\"1\" class=\"dataframe\">\n",
       "  <thead>\n",
       "    <tr style=\"text-align: right;\">\n",
       "      <th></th>\n",
       "    </tr>\n",
       "  </thead>\n",
       "  <tbody>\n",
       "  </tbody>\n",
       "</table>\n",
       "</div>"
      ],
      "text/plain": [
       "Empty DataFrame\n",
       "Columns: []\n",
       "Index: []"
      ]
     },
     "execution_count": 7,
     "metadata": {},
     "output_type": "execute_result"
    }
   ],
   "source": [
    "# 1. Which are the top 3 manufacturers for the retailer in terms of number of products produced? \n",
    "\n",
    "sql_code = \"\"\"\n",
    "-- WRITE YOUR CODE HERE \n",
    "\"\"\"\n",
    "\n",
    "cursor_obj.execute(sql_code) # Executing the code \n",
    "connection_obj.commit() #  Commit changes (if any)\n",
    "results = cursor_obj.fetchall() # Fetch all the results\n",
    "\n",
    "df=pd.DataFrame(results)\n",
    "df"
   ]
  },
  {
   "cell_type": "code",
   "execution_count": 8,
   "id": "e9bdd17c",
   "metadata": {},
   "outputs": [
    {
     "data": {
      "text/html": [
       "<div>\n",
       "<style scoped>\n",
       "    .dataframe tbody tr th:only-of-type {\n",
       "        vertical-align: middle;\n",
       "    }\n",
       "\n",
       "    .dataframe tbody tr th {\n",
       "        vertical-align: top;\n",
       "    }\n",
       "\n",
       "    .dataframe thead th {\n",
       "        text-align: right;\n",
       "    }\n",
       "</style>\n",
       "<table border=\"1\" class=\"dataframe\">\n",
       "  <thead>\n",
       "    <tr style=\"text-align: right;\">\n",
       "      <th></th>\n",
       "    </tr>\n",
       "  </thead>\n",
       "  <tbody>\n",
       "  </tbody>\n",
       "</table>\n",
       "</div>"
      ],
      "text/plain": [
       "Empty DataFrame\n",
       "Columns: []\n",
       "Index: []"
      ]
     },
     "execution_count": 8,
     "metadata": {},
     "output_type": "execute_result"
    }
   ],
   "source": [
    "# 2. Which campaign (Not desc, the campaign e.g., 8,26 etc.) ran for most days?\n",
    "\n",
    "sql_code = \"\"\"\n",
    "-- WRITE YOUR CODE HERE \n",
    "\"\"\"\n",
    "\n",
    "cursor_obj.execute(sql_code) # Executing the code \n",
    "connection_obj.commit() #  Commit changes (if any)\n",
    "results = cursor_obj.fetchall() # Fetch all the results\n",
    "\n",
    "df=pd.DataFrame(results)\n",
    "df"
   ]
  },
  {
   "cell_type": "code",
   "execution_count": 9,
   "id": "665986d2",
   "metadata": {},
   "outputs": [
    {
     "data": {
      "text/html": [
       "<div>\n",
       "<style scoped>\n",
       "    .dataframe tbody tr th:only-of-type {\n",
       "        vertical-align: middle;\n",
       "    }\n",
       "\n",
       "    .dataframe tbody tr th {\n",
       "        vertical-align: top;\n",
       "    }\n",
       "\n",
       "    .dataframe thead th {\n",
       "        text-align: right;\n",
       "    }\n",
       "</style>\n",
       "<table border=\"1\" class=\"dataframe\">\n",
       "  <thead>\n",
       "    <tr style=\"text-align: right;\">\n",
       "      <th></th>\n",
       "    </tr>\n",
       "  </thead>\n",
       "  <tbody>\n",
       "  </tbody>\n",
       "</table>\n",
       "</div>"
      ],
      "text/plain": [
       "Empty DataFrame\n",
       "Columns: []\n",
       "Index: []"
      ]
     },
     "execution_count": 9,
     "metadata": {},
     "output_type": "execute_result"
    }
   ],
   "source": [
    "# 2.1 Total number of days that each type of campaign (Type A, Type B & Type C) ran.\n",
    "\n",
    "sql_code = \"\"\"\n",
    "-- WRITE YOUR CODE HERE \n",
    "\"\"\"\n",
    "\n",
    "cursor_obj.execute(sql_code) # Executing the code \n",
    "connection_obj.commit() #  Commit changes (if any)\n",
    "results = cursor_obj.fetchall() # Fetch all the results\n",
    "\n",
    "df=pd.DataFrame(results)\n",
    "df"
   ]
  },
  {
   "cell_type": "code",
   "execution_count": 10,
   "id": "81ea994e",
   "metadata": {},
   "outputs": [
    {
     "data": {
      "text/html": [
       "<div>\n",
       "<style scoped>\n",
       "    .dataframe tbody tr th:only-of-type {\n",
       "        vertical-align: middle;\n",
       "    }\n",
       "\n",
       "    .dataframe tbody tr th {\n",
       "        vertical-align: top;\n",
       "    }\n",
       "\n",
       "    .dataframe thead th {\n",
       "        text-align: right;\n",
       "    }\n",
       "</style>\n",
       "<table border=\"1\" class=\"dataframe\">\n",
       "  <thead>\n",
       "    <tr style=\"text-align: right;\">\n",
       "      <th></th>\n",
       "    </tr>\n",
       "  </thead>\n",
       "  <tbody>\n",
       "  </tbody>\n",
       "</table>\n",
       "</div>"
      ],
      "text/plain": [
       "Empty DataFrame\n",
       "Columns: []\n",
       "Index: []"
      ]
     },
     "execution_count": 10,
     "metadata": {},
     "output_type": "execute_result"
    }
   ],
   "source": [
    "# 3. How many coupons are mapped to each Campaign type? (e.g., Type A - 20 etc.)\n",
    "\n",
    "sql_code = \"\"\"\n",
    "-- WRITE YOUR CODE HERE \n",
    "\"\"\"\n",
    "\n",
    "cursor_obj.execute(sql_code) # Executing the code \n",
    "connection_obj.commit() #  Commit changes (if any)\n",
    "results = cursor_obj.fetchall() # Fetch all the results\n",
    "\n",
    "df=pd.DataFrame(results)\n",
    "df"
   ]
  },
  {
   "cell_type": "code",
   "execution_count": 11,
   "id": "e843f18f",
   "metadata": {},
   "outputs": [
    {
     "data": {
      "text/html": [
       "<div>\n",
       "<style scoped>\n",
       "    .dataframe tbody tr th:only-of-type {\n",
       "        vertical-align: middle;\n",
       "    }\n",
       "\n",
       "    .dataframe tbody tr th {\n",
       "        vertical-align: top;\n",
       "    }\n",
       "\n",
       "    .dataframe thead th {\n",
       "        text-align: right;\n",
       "    }\n",
       "</style>\n",
       "<table border=\"1\" class=\"dataframe\">\n",
       "  <thead>\n",
       "    <tr style=\"text-align: right;\">\n",
       "      <th></th>\n",
       "    </tr>\n",
       "  </thead>\n",
       "  <tbody>\n",
       "  </tbody>\n",
       "</table>\n",
       "</div>"
      ],
      "text/plain": [
       "Empty DataFrame\n",
       "Columns: []\n",
       "Index: []"
      ]
     },
     "execution_count": 11,
     "metadata": {},
     "output_type": "execute_result"
    }
   ],
   "source": [
    "# 4 How much has the company spent on retail discounts and campaign-based discounts? Which is higher?\n",
    "\n",
    "sql_code = \"\"\"\n",
    "-- WRITE YOUR CODE HERE \n",
    "\"\"\"\n",
    "\n",
    "cursor_obj.execute(sql_code) # Executing the code \n",
    "connection_obj.commit() #  Commit changes (if any)\n",
    "results = cursor_obj.fetchall() # Fetch all the results\n",
    "\n",
    "df=pd.DataFrame(results)\n",
    "df"
   ]
  },
  {
   "cell_type": "code",
   "execution_count": 12,
   "id": "aab968c7",
   "metadata": {},
   "outputs": [
    {
     "data": {
      "text/html": [
       "<div>\n",
       "<style scoped>\n",
       "    .dataframe tbody tr th:only-of-type {\n",
       "        vertical-align: middle;\n",
       "    }\n",
       "\n",
       "    .dataframe tbody tr th {\n",
       "        vertical-align: top;\n",
       "    }\n",
       "\n",
       "    .dataframe thead th {\n",
       "        text-align: right;\n",
       "    }\n",
       "</style>\n",
       "<table border=\"1\" class=\"dataframe\">\n",
       "  <thead>\n",
       "    <tr style=\"text-align: right;\">\n",
       "      <th></th>\n",
       "    </tr>\n",
       "  </thead>\n",
       "  <tbody>\n",
       "  </tbody>\n",
       "</table>\n",
       "</div>"
      ],
      "text/plain": [
       "Empty DataFrame\n",
       "Columns: []\n",
       "Index: []"
      ]
     },
     "execution_count": 12,
     "metadata": {},
     "output_type": "execute_result"
    }
   ],
   "source": [
    "# 5 What is the distribution of low, medium & high-income houses targeted by each type of campaign? \n",
    "# (Default - Low < 40K, Medium 40K to 80K & High 80K<) \n",
    "# {you could change the default threshold, just provide the reasoning for new threshold in the comments. \n",
    "# Extra credits will be provided for improved thresholds}\n",
    "\n",
    "sql_code = \"\"\"\n",
    "-- WRITE YOUR CODE HERE \n",
    "\"\"\"\n",
    "\n",
    "cursor_obj.execute(sql_code) # Executing the code \n",
    "connection_obj.commit() #  Commit changes (if any)\n",
    "results = cursor_obj.fetchall() # Fetch all the results\n",
    "\n",
    "df=pd.DataFrame(results)\n",
    "df"
   ]
  },
  {
   "cell_type": "code",
   "execution_count": 13,
   "id": "c5928758",
   "metadata": {},
   "outputs": [
    {
     "data": {
      "text/html": [
       "<div>\n",
       "<style scoped>\n",
       "    .dataframe tbody tr th:only-of-type {\n",
       "        vertical-align: middle;\n",
       "    }\n",
       "\n",
       "    .dataframe tbody tr th {\n",
       "        vertical-align: top;\n",
       "    }\n",
       "\n",
       "    .dataframe thead th {\n",
       "        text-align: right;\n",
       "    }\n",
       "</style>\n",
       "<table border=\"1\" class=\"dataframe\">\n",
       "  <thead>\n",
       "    <tr style=\"text-align: right;\">\n",
       "      <th></th>\n",
       "    </tr>\n",
       "  </thead>\n",
       "  <tbody>\n",
       "  </tbody>\n",
       "</table>\n",
       "</div>"
      ],
      "text/plain": [
       "Empty DataFrame\n",
       "Columns: []\n",
       "Index: []"
      ]
     },
     "execution_count": 13,
     "metadata": {},
     "output_type": "execute_result"
    }
   ],
   "source": [
    "# 6. What is the distribution of purchase value for Single, Adults with no kids, Adults with kids’ households?\n",
    "\n",
    "sql_code = \"\"\"\n",
    "-- WRITE YOUR CODE HERE \n",
    "\"\"\"\n",
    "\n",
    "cursor_obj.execute(sql_code) # Executing the code \n",
    "connection_obj.commit() #  Commit changes (if any)\n",
    "results = cursor_obj.fetchall() # Fetch all the results\n",
    "\n",
    "df=pd.DataFrame(results)\n",
    "df"
   ]
  },
  {
   "cell_type": "code",
   "execution_count": null,
   "id": "f9837168",
   "metadata": {},
   "outputs": [],
   "source": []
  },
  {
   "cell_type": "code",
   "execution_count": null,
   "id": "25de0da2",
   "metadata": {},
   "outputs": [],
   "source": []
  },
  {
   "cell_type": "code",
   "execution_count": 14,
   "id": "4b93e07e",
   "metadata": {},
   "outputs": [
    {
     "data": {
      "text/html": [
       "<div>\n",
       "<style scoped>\n",
       "    .dataframe tbody tr th:only-of-type {\n",
       "        vertical-align: middle;\n",
       "    }\n",
       "\n",
       "    .dataframe tbody tr th {\n",
       "        vertical-align: top;\n",
       "    }\n",
       "\n",
       "    .dataframe thead th {\n",
       "        text-align: right;\n",
       "    }\n",
       "</style>\n",
       "<table border=\"1\" class=\"dataframe\">\n",
       "  <thead>\n",
       "    <tr style=\"text-align: right;\">\n",
       "      <th></th>\n",
       "    </tr>\n",
       "  </thead>\n",
       "  <tbody>\n",
       "  </tbody>\n",
       "</table>\n",
       "</div>"
      ],
      "text/plain": [
       "Empty DataFrame\n",
       "Columns: []\n",
       "Index: []"
      ]
     },
     "execution_count": 14,
     "metadata": {},
     "output_type": "execute_result"
    }
   ],
   "source": [
    "# 7. What are the total sales generated by products have no defined size of the product? \n",
    "\n",
    "sql_code = \"\"\"\n",
    "-- WRITE YOUR CODE HERE \n",
    "\"\"\"\n",
    "\n",
    "cursor_obj.execute(sql_code) # Executing the code \n",
    "connection_obj.commit() #  Commit changes (if any)\n",
    "results = cursor_obj.fetchall() # Fetch all the results\n",
    "\n",
    "df=pd.DataFrame(results)\n",
    "df"
   ]
  },
  {
   "cell_type": "code",
   "execution_count": 15,
   "id": "c2c72c08",
   "metadata": {},
   "outputs": [
    {
     "data": {
      "text/html": [
       "<div>\n",
       "<style scoped>\n",
       "    .dataframe tbody tr th:only-of-type {\n",
       "        vertical-align: middle;\n",
       "    }\n",
       "\n",
       "    .dataframe tbody tr th {\n",
       "        vertical-align: top;\n",
       "    }\n",
       "\n",
       "    .dataframe thead th {\n",
       "        text-align: right;\n",
       "    }\n",
       "</style>\n",
       "<table border=\"1\" class=\"dataframe\">\n",
       "  <thead>\n",
       "    <tr style=\"text-align: right;\">\n",
       "      <th></th>\n",
       "    </tr>\n",
       "  </thead>\n",
       "  <tbody>\n",
       "  </tbody>\n",
       "</table>\n",
       "</div>"
      ],
      "text/plain": [
       "Empty DataFrame\n",
       "Columns: []\n",
       "Index: []"
      ]
     },
     "execution_count": 15,
     "metadata": {},
     "output_type": "execute_result"
    }
   ],
   "source": [
    "# 8. Which is the busiest hour of sales across all stores? Justify your approach in comments.\n",
    "\n",
    "sql_code = \"\"\"\n",
    "-- WRITE YOUR CODE HERE \n",
    "\"\"\"\n",
    "\n",
    "cursor_obj.execute(sql_code) # Executing the code \n",
    "connection_obj.commit() #  Commit changes (if any)\n",
    "results = cursor_obj.fetchall() # Fetch all the results\n",
    "\n",
    "df=pd.DataFrame(results)\n",
    "df"
   ]
  },
  {
   "cell_type": "code",
   "execution_count": 16,
   "id": "2e9ac9c3",
   "metadata": {},
   "outputs": [
    {
     "data": {
      "text/html": [
       "<div>\n",
       "<style scoped>\n",
       "    .dataframe tbody tr th:only-of-type {\n",
       "        vertical-align: middle;\n",
       "    }\n",
       "\n",
       "    .dataframe tbody tr th {\n",
       "        vertical-align: top;\n",
       "    }\n",
       "\n",
       "    .dataframe thead th {\n",
       "        text-align: right;\n",
       "    }\n",
       "</style>\n",
       "<table border=\"1\" class=\"dataframe\">\n",
       "  <thead>\n",
       "    <tr style=\"text-align: right;\">\n",
       "      <th></th>\n",
       "    </tr>\n",
       "  </thead>\n",
       "  <tbody>\n",
       "  </tbody>\n",
       "</table>\n",
       "</div>"
      ],
      "text/plain": [
       "Empty DataFrame\n",
       "Columns: []\n",
       "Index: []"
      ]
     },
     "execution_count": 16,
     "metadata": {},
     "output_type": "execute_result"
    }
   ],
   "source": [
    "# 9. Assuming Day = 0 to be Jan 1, 2020, how much sales was made in December 2020?\n",
    "\n",
    "sql_code = \"\"\"\n",
    "-- WRITE YOUR CODE HERE \n",
    "\"\"\"\n",
    "\n",
    "cursor_obj.execute(sql_code) # Executing the code \n",
    "connection_obj.commit() #  Commit changes (if any)\n",
    "results = cursor_obj.fetchall() # Fetch all the results\n",
    "\n",
    "df=pd.DataFrame(results)\n",
    "df"
   ]
  },
  {
   "cell_type": "code",
   "execution_count": 17,
   "id": "efc27a85",
   "metadata": {},
   "outputs": [
    {
     "data": {
      "text/html": [
       "<div>\n",
       "<style scoped>\n",
       "    .dataframe tbody tr th:only-of-type {\n",
       "        vertical-align: middle;\n",
       "    }\n",
       "\n",
       "    .dataframe tbody tr th {\n",
       "        vertical-align: top;\n",
       "    }\n",
       "\n",
       "    .dataframe thead th {\n",
       "        text-align: right;\n",
       "    }\n",
       "</style>\n",
       "<table border=\"1\" class=\"dataframe\">\n",
       "  <thead>\n",
       "    <tr style=\"text-align: right;\">\n",
       "      <th></th>\n",
       "    </tr>\n",
       "  </thead>\n",
       "  <tbody>\n",
       "  </tbody>\n",
       "</table>\n",
       "</div>"
      ],
      "text/plain": [
       "Empty DataFrame\n",
       "Columns: []\n",
       "Index: []"
      ]
     },
     "execution_count": 17,
     "metadata": {},
     "output_type": "execute_result"
    }
   ],
   "source": [
    "# 10. Find the number of households who have made purchases in any number of consecutive weeks\n",
    "\n",
    "sql_code = \"\"\"\n",
    "-- WRITE YOUR CODE HERE \n",
    "\"\"\"\n",
    "\n",
    "cursor_obj.execute(sql_code) # Executing the code \n",
    "connection_obj.commit() #  Commit changes (if any)\n",
    "results = cursor_obj.fetchall() # Fetch all the results\n",
    "\n",
    "df=pd.DataFrame(results)\n",
    "df"
   ]
  },
  {
   "cell_type": "code",
   "execution_count": 18,
   "id": "e05758eb",
   "metadata": {},
   "outputs": [
    {
     "data": {
      "text/html": [
       "<div>\n",
       "<style scoped>\n",
       "    .dataframe tbody tr th:only-of-type {\n",
       "        vertical-align: middle;\n",
       "    }\n",
       "\n",
       "    .dataframe tbody tr th {\n",
       "        vertical-align: top;\n",
       "    }\n",
       "\n",
       "    .dataframe thead th {\n",
       "        text-align: right;\n",
       "    }\n",
       "</style>\n",
       "<table border=\"1\" class=\"dataframe\">\n",
       "  <thead>\n",
       "    <tr style=\"text-align: right;\">\n",
       "      <th></th>\n",
       "    </tr>\n",
       "  </thead>\n",
       "  <tbody>\n",
       "  </tbody>\n",
       "</table>\n",
       "</div>"
      ],
      "text/plain": [
       "Empty DataFrame\n",
       "Columns: []\n",
       "Index: []"
      ]
     },
     "execution_count": 18,
     "metadata": {},
     "output_type": "execute_result"
    }
   ],
   "source": [
    "# 11. Does the increase in number of kids in a household correspond to a higher \n",
    "# average purchase value of each purchase by a household? (Calculate for each purchase and not each item) \n",
    "\n",
    "sql_code = \"\"\"\n",
    "-- WRITE YOUR CODE HERE \n",
    "\"\"\"\n",
    "\n",
    "cursor_obj.execute(sql_code) # Executing the code \n",
    "connection_obj.commit() #  Commit changes (if any)\n",
    "results = cursor_obj.fetchall() # Fetch all the results\n",
    "\n",
    "df=pd.DataFrame(results)\n",
    "df"
   ]
  },
  {
   "cell_type": "code",
   "execution_count": 19,
   "id": "6fba5efd",
   "metadata": {},
   "outputs": [
    {
     "data": {
      "text/html": [
       "<div>\n",
       "<style scoped>\n",
       "    .dataframe tbody tr th:only-of-type {\n",
       "        vertical-align: middle;\n",
       "    }\n",
       "\n",
       "    .dataframe tbody tr th {\n",
       "        vertical-align: top;\n",
       "    }\n",
       "\n",
       "    .dataframe thead th {\n",
       "        text-align: right;\n",
       "    }\n",
       "</style>\n",
       "<table border=\"1\" class=\"dataframe\">\n",
       "  <thead>\n",
       "    <tr style=\"text-align: right;\">\n",
       "      <th></th>\n",
       "    </tr>\n",
       "  </thead>\n",
       "  <tbody>\n",
       "  </tbody>\n",
       "</table>\n",
       "</div>"
      ],
      "text/plain": [
       "Empty DataFrame\n",
       "Columns: []\n",
       "Index: []"
      ]
     },
     "execution_count": 19,
     "metadata": {},
     "output_type": "execute_result"
    }
   ],
   "source": [
    "# 12. Were there any number of coupons not redeemed by customers? If so, how many?\n",
    "\n",
    "sql_code = \"\"\"\n",
    "-- WRITE YOUR CODE HERE \n",
    "\"\"\"\n",
    "\n",
    "cursor_obj.execute(sql_code) # Executing the code \n",
    "connection_obj.commit() #  Commit changes (if any)\n",
    "results = cursor_obj.fetchall() # Fetch all the results\n",
    "\n",
    "df=pd.DataFrame(results)\n",
    "df"
   ]
  },
  {
   "cell_type": "code",
   "execution_count": 20,
   "id": "d942b4e7",
   "metadata": {},
   "outputs": [
    {
     "data": {
      "text/html": [
       "<div>\n",
       "<style scoped>\n",
       "    .dataframe tbody tr th:only-of-type {\n",
       "        vertical-align: middle;\n",
       "    }\n",
       "\n",
       "    .dataframe tbody tr th {\n",
       "        vertical-align: top;\n",
       "    }\n",
       "\n",
       "    .dataframe thead th {\n",
       "        text-align: right;\n",
       "    }\n",
       "</style>\n",
       "<table border=\"1\" class=\"dataframe\">\n",
       "  <thead>\n",
       "    <tr style=\"text-align: right;\">\n",
       "      <th></th>\n",
       "    </tr>\n",
       "  </thead>\n",
       "  <tbody>\n",
       "  </tbody>\n",
       "</table>\n",
       "</div>"
      ],
      "text/plain": [
       "Empty DataFrame\n",
       "Columns: []\n",
       "Index: []"
      ]
     },
     "execution_count": 20,
     "metadata": {},
     "output_type": "execute_result"
    }
   ],
   "source": [
    "# 13. What were the two items were most frequently purchased together? \n",
    "# If there’s more than one, display top 5 in order of product ID.\n",
    "\n",
    "sql_code = \"\"\"\n",
    "-- WRITE YOUR CODE HERE \n",
    "\"\"\"\n",
    "\n",
    "cursor_obj.execute(sql_code) # Executing the code \n",
    "connection_obj.commit() #  Commit changes (if any)\n",
    "results = cursor_obj.fetchall() # Fetch all the results\n",
    "\n",
    "df=pd.DataFrame(results)\n",
    "df"
   ]
  },
  {
   "cell_type": "code",
   "execution_count": 21,
   "id": "92c5a269",
   "metadata": {},
   "outputs": [
    {
     "data": {
      "text/html": [
       "<div>\n",
       "<style scoped>\n",
       "    .dataframe tbody tr th:only-of-type {\n",
       "        vertical-align: middle;\n",
       "    }\n",
       "\n",
       "    .dataframe tbody tr th {\n",
       "        vertical-align: top;\n",
       "    }\n",
       "\n",
       "    .dataframe thead th {\n",
       "        text-align: right;\n",
       "    }\n",
       "</style>\n",
       "<table border=\"1\" class=\"dataframe\">\n",
       "  <thead>\n",
       "    <tr style=\"text-align: right;\">\n",
       "      <th></th>\n",
       "    </tr>\n",
       "  </thead>\n",
       "  <tbody>\n",
       "  </tbody>\n",
       "</table>\n",
       "</div>"
      ],
      "text/plain": [
       "Empty DataFrame\n",
       "Columns: []\n",
       "Index: []"
      ]
     },
     "execution_count": 21,
     "metadata": {},
     "output_type": "execute_result"
    }
   ],
   "source": [
    "# 14. Assuming cost to run all three types of campaign is same, \n",
    "# which campaign turned out to be most profitable for the retailer? Justify your approach in the comments\n",
    "\n",
    "sql_code = \"\"\"\n",
    "-- WRITE YOUR CODE HERE \n",
    "\"\"\"\n",
    "\n",
    "cursor_obj.execute(sql_code) # Executing the code \n",
    "connection_obj.commit() #  Commit changes (if any)\n",
    "results = cursor_obj.fetchall() # Fetch all the results\n",
    "\n",
    "df=pd.DataFrame(results)\n",
    "df"
   ]
  },
  {
   "cell_type": "code",
   "execution_count": 22,
   "id": "d7ca014f",
   "metadata": {},
   "outputs": [
    {
     "data": {
      "text/html": [
       "<div>\n",
       "<style scoped>\n",
       "    .dataframe tbody tr th:only-of-type {\n",
       "        vertical-align: middle;\n",
       "    }\n",
       "\n",
       "    .dataframe tbody tr th {\n",
       "        vertical-align: top;\n",
       "    }\n",
       "\n",
       "    .dataframe thead th {\n",
       "        text-align: right;\n",
       "    }\n",
       "</style>\n",
       "<table border=\"1\" class=\"dataframe\">\n",
       "  <thead>\n",
       "    <tr style=\"text-align: right;\">\n",
       "      <th></th>\n",
       "    </tr>\n",
       "  </thead>\n",
       "  <tbody>\n",
       "  </tbody>\n",
       "</table>\n",
       "</div>"
      ],
      "text/plain": [
       "Empty DataFrame\n",
       "Columns: []\n",
       "Index: []"
      ]
     },
     "execution_count": 22,
     "metadata": {},
     "output_type": "execute_result"
    }
   ],
   "source": [
    "# 15. What is the average % increase/decrease in sales value (of each purchase by a household) in all purchases \n",
    "#     following a purchase with a discount applied from a coupon?\n",
    "\n",
    "sql_code = \"\"\"\n",
    "-- WRITE YOUR CODE HERE \n",
    "\"\"\"\n",
    "\n",
    "cursor_obj.execute(sql_code) # Executing the code \n",
    "connection_obj.commit() #  Commit changes (if any)\n",
    "results = cursor_obj.fetchall() # Fetch all the results\n",
    "\n",
    "df=pd.DataFrame(results)\n",
    "df"
   ]
  },
  {
   "cell_type": "code",
   "execution_count": null,
   "id": "22de8a11",
   "metadata": {},
   "outputs": [],
   "source": []
  },
  {
   "cell_type": "code",
   "execution_count": null,
   "id": "b614cfe9",
   "metadata": {},
   "outputs": [],
   "source": []
  },
  {
   "cell_type": "code",
   "execution_count": null,
   "id": "e1fad761",
   "metadata": {},
   "outputs": [],
   "source": []
  },
  {
   "cell_type": "code",
   "execution_count": null,
   "id": "cfc48cf6-b80a-4ccf-9da5-da6f9dc3abd3",
   "metadata": {},
   "outputs": [],
   "source": []
  }
 ],
 "metadata": {
  "kernelspec": {
   "display_name": "Python 3 (ipykernel)",
   "language": "python",
   "name": "python3"
  },
  "language_info": {
   "codemirror_mode": {
    "name": "ipython",
    "version": 3
   },
   "file_extension": ".py",
   "mimetype": "text/x-python",
   "name": "python",
   "nbconvert_exporter": "python",
   "pygments_lexer": "ipython3",
   "version": "3.11.7"
  }
 },
 "nbformat": 4,
 "nbformat_minor": 5
}
