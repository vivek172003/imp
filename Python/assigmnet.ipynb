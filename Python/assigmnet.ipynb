{
 "cells": [
  {
   "cell_type": "markdown",
   "id": "9de5df5d",
   "metadata": {},
   "source": [
    "Assigmnet for Python"
   ]
  },
  {
   "cell_type": "code",
   "execution_count": 1,
   "id": "3b9490ce",
   "metadata": {},
   "outputs": [
    {
     "name": "stdout",
     "output_type": "stream",
     "text": [
      "Before swap:\n",
      "a = 25\n",
      "b = 30\n",
      "After swap:\n",
      "a = 30\n",
      "b = 25\n"
     ]
    }
   ],
   "source": [
    "#a. Write a Python program that takes two numbers as input and swaps their values using a temporary variable. Display the values before and after the swap.\n",
    "\n",
    "a = int(input(\"number 1 :\"))\n",
    "b = int(input(\"number 2 :\"))\n",
    "print(\"Before swap:\")\n",
    "print(\"a =\", a)\n",
    "print(\"b =\", b)\n",
    "temp = a\n",
    "a = b\n",
    "b = temp\n",
    "print(\"After swap:\")\n",
    "print(\"a =\", a) \n",
    "print(\"b =\", b)\n"
   ]
  },
  {
   "cell_type": "code",
   "execution_count": 3,
   "id": "6438ef0c",
   "metadata": {},
   "outputs": [
    {
     "name": "stdout",
     "output_type": "stream",
     "text": [
      "area of rectangle is : 50\n"
     ]
    }
   ],
   "source": [
    "#b. Write a Python program that calculates the area of a rectangle. The length and width of the rectangle should be stored in variables, and the area should be calculated and displayed using those variables.\n",
    "\n",
    "a = int(input(\"enter length of rectangle: \"))\n",
    "b = int(input(\"enter breadth of rectangle: \"))\n",
    "area = a*b\n",
    "print(\"area of rectangle is :\", area)"
   ]
  },
  {
   "cell_type": "code",
   "execution_count": 10,
   "id": "909f53e9",
   "metadata": {},
   "outputs": [
    {
     "name": "stdout",
     "output_type": "stream",
     "text": [
      "account holder name: vivek \n",
      "account number: 12345678\n",
      "account balance: 10\n",
      "current balance after deposit : 20\n",
      "current balance after withdrawal: 15\n"
     ]
    }
   ],
   "source": [
    " #c. Write a Python program that simulates a simple bank account. Create variables to store the account holder name, account number, and account balance. Perform basic operations like deposit and withdrawal, updating the account balance accordingly, and display the updated balance after each transaction.\n",
    "name = input(\"name:\")\n",
    "number = int(input(\"account number:\"))\n",
    "balance = int(input(\"account balance:\"))\n",
    "print(\"account holder name:\", name)\n",
    "print(\"account number:\", number)\n",
    "print(\"account balance:\", balance)\n",
    "\n",
    "def deposit(money):\n",
    "    global balance\n",
    "    balance = balance + money \n",
    "    print(\"current balance after deposit :\", balance)\n",
    "\n",
    "def withdraw(money):\n",
    "    global balance\n",
    "    if money > balance:\n",
    "        print(\"insufficinet balance\")\n",
    "    else:\n",
    "        balance = balance - money \n",
    "        print(\"current balance after withdrawal:\", balance)\n",
    "\n",
    "m = int(input(\"enter amount to deposit: \"))\n",
    "deposit(m)\n",
    "n = int(input(\"enter amount to withdraw: \"))\n",
    "withdraw(n)\n"
   ]
  },
  {
   "cell_type": "markdown",
   "id": "3622460c",
   "metadata": {},
   "source": [
    "Lists:\n"
   ]
  },
  {
   "cell_type": "code",
   "execution_count": 13,
   "id": "a28a1e9a",
   "metadata": {},
   "outputs": [
    {
     "name": "stdout",
     "output_type": "stream",
     "text": [
      "['siva', 'shivraj', 'rishee', 'harsha', 'masthan', 'akash'] before sorting\n",
      "['akash', 'harsha', 'masthan', 'rishee', 'shivraj', 'siva'] post sorting Ascending order\n",
      "['siva', 'shivraj', 'rishee', 'masthan', 'harsha', 'akash'] post sorting Descending order\n"
     ]
    }
   ],
   "source": [
    "# a. Write a Python program that takes a list of names as input and sorts them in alphabetical order. Display the sorted list.\n",
    "a = [ 'siva', 'shivraj', 'rishee', 'harsha','masthan','akash']\n",
    "print (a, \"before sorting\")\n",
    "a.sort()\n",
    "print (a, 'post sorting Ascending order')\n",
    "a.sort(reverse=True)\n",
    "print (a, 'post sorting Descending order')"
   ]
  },
  {
   "cell_type": "code",
   "execution_count": 22,
   "id": "8ed0529c",
   "metadata": {},
   "outputs": [
    {
     "name": "stdout",
     "output_type": "stream",
     "text": [
      "list before removing duplicates: [1, 2, 1, 3, 5]\n",
      "{1, 2, 3, 5}\n",
      "list after rmoveing duplicates: [1, 2, 3, 5]\n"
     ]
    }
   ],
   "source": [
    "#b. Write a Python program that takes a list of integers as input and removes all the duplicates, creating a new list with unique elements. Display the new list.\n",
    "# import numpy as np\n",
    "a= []\n",
    "n = int(input(\"length of list:\"))\n",
    "for i in range(n):\n",
    "    b = int(input(f\"number {i+1}: \"))\n",
    "    a.append(b)\n",
    "print(\"list before removing duplicates:\", a)\n",
    "\n",
    "temp = set(a)\n",
    "print(\"set used set as the set can only have unique values\", temp)\n",
    "a = list(temp)\n",
    "print(\"list after rmoveing duplicates:\", a)\n",
    "\n",
    "\n",
    "# a = np.unique(a)\n",
    "# print(\"list after removing duplicates:\", a)\n"
   ]
  },
  {
   "cell_type": "code",
   "execution_count": 19,
   "id": "67067b0a",
   "metadata": {},
   "outputs": [
    {
     "name": "stdout",
     "output_type": "stream",
     "text": [
      "first list: [1, 2, 3, 4, 5]\n",
      "second list: [1, 2]\n",
      "merged list: [1, 2, 3, 4, 5, 1, 2]\n"
     ]
    }
   ],
   "source": [
    "#c. Write a Python program that takes two lists of integers as input and merges them into a single list. Display the merged list.\n",
    "a = []\n",
    "b = []\n",
    "n = int(input(\"length of first list:\"))\n",
    "for i in range(n):\n",
    "    c = int(input(\"number:\"))\n",
    "    a.append(c)\n",
    "m = int(input(\"length of second list:\"))\n",
    "for i in range(m):\n",
    "    d = int(input(\"number:\"))\n",
    "    b.append(d)\n",
    "print(\"first list:\", a)\n",
    "print(\"second list:\", b)\n",
    "ab = a + b\n",
    "print(\"merged list:\", ab)\n"
   ]
  },
  {
   "cell_type": "markdown",
   "id": "bad4bcc8",
   "metadata": {},
   "source": [
    "Tuples:"
   ]
  },
  {
   "cell_type": "code",
   "execution_count": null,
   "id": "9a239c58",
   "metadata": {},
   "outputs": [
    {
     "name": "stdout",
     "output_type": "stream",
     "text": [
      "apple: 5\n",
      "banana: 6\n",
      "orange: 6\n"
     ]
    }
   ],
   "source": [
    "#a. Write a Python program that takes a tuple of strings as input and counts the occurrences of each word in the tuple. Display each word along with its count.\n",
    "a = ('apple', 'banana', 'apple', 'orange', 'banana', 'apple')\n",
    "unique = set(a)  \n",
    "for word in unique:\n",
    "    count = a.count(word)  # checks for the number of occurrences of each word in a i.e tuple\n",
    "    print(f\"{word}: {count}\")"
   ]
  },
  {
   "cell_type": "code",
   "execution_count": 32,
   "id": "80d7c4c9",
   "metadata": {},
   "outputs": [
    {
     "name": "stdout",
     "output_type": "stream",
     "text": [
      "longest string: banana with length 6\n",
      "shortest string: kiwi with length 4\n"
     ]
    }
   ],
   "source": [
    "#b. Write a Python program that takes a tuple of strings as input and finds the longest and shortest strings in the tuple. Display both strings.\n",
    "a = ('apple', 'banana', 'kiwi', 'orange', 'grapes')\n",
    "\n",
    "longest =  a[0]\n",
    "shortest = a[0]\n",
    "\n",
    "for word in a :\n",
    "    if len(word) > len(longest):\n",
    "        # print(len(word))\n",
    "        longest = word\n",
    "    if len(word) < len(shortest):\n",
    "        # print(len(word))\n",
    "        shortest = word\n",
    "\n",
    "print(f\"longest string: {longest} with length {len(longest)}\")\n",
    "print(f\"shortest string: {shortest} with length {len(shortest)}\")"
   ]
  },
  {
   "cell_type": "code",
   "execution_count": null,
   "id": "63793140",
   "metadata": {},
   "outputs": [
    {
     "name": "stdout",
     "output_type": "stream",
     "text": [
      "tuple with even numbers: (2, 4, 6, 8, 10, 52)\n"
     ]
    }
   ],
   "source": [
    "#c. Write a Python program that takes a tuple of integers as input and returns a new tuple containing only the even numbers from the original tuple.\n",
    "a = (1,2,3,4,5,6,7,8,9,10, 52)\n",
    "b= []\n",
    "for i in a:\n",
    "    if i % 2 == 0:\n",
    "        # print(i)\n",
    "        b.append(i)\n",
    "\n",
    "c = tuple(b)\n",
    "print(\"even numbers:\", c)\n",
    "\n"
   ]
  },
  {
   "cell_type": "markdown",
   "id": "6c90b951",
   "metadata": {},
   "source": [
    "Sets:"
   ]
  },
  {
   "cell_type": "code",
   "execution_count": null,
   "id": "d22a5866",
   "metadata": {},
   "outputs": [
    {
     "name": "stdout",
     "output_type": "stream",
     "text": [
      "set a: {1, 2, 3, 4, 5}\n",
      "set b: {1, 4, 5, 6, 7, 8}\n",
      "Union of a and b: {1, 2, 3, 4, 5, 6, 7, 8}\n",
      "Intersection of a and b: {1, 4, 5}\n",
      "Difference of a and b (a - b): {2, 3}\n"
     ]
    }
   ],
   "source": [
    "#a. Write a Python program that takes two sets of integers as input and finds their union, intersection, and difference. Display the results.\n",
    "a = {1, 2, 3, 4, 5}\n",
    "b = {4, 5, 6, 7, 8} # set only accepts unique values, you can guve the values but while printing it will print unique values only\n",
    "print(\"set a:\", a)\n",
    "print(\"set b:\", b)\n",
    "print(\"Union of a and b:\", a.union(b))\n",
    "print(\"Intersection of a and b:\", a.intersection(b))\n",
    "print(\"Difference of a and b (a - b):\", a.difference(b))\n"
   ]
  },
  {
   "cell_type": "code",
   "execution_count": 41,
   "id": "09bf28f1",
   "metadata": {},
   "outputs": [
    {
     "name": "stdout",
     "output_type": "stream",
     "text": [
      "even numbers: {2, 4, 6}\n",
      "odd numbers: {1, 3, 5}\n"
     ]
    }
   ],
   "source": [
    "#b. Write a Python program that takes a list of numbers as input and creates a set of even numbers and a set of odd numbers. Display both sets.\n",
    "a = []\n",
    "n = int(input(\"len(list): \"))\n",
    "for i in range(n):\n",
    "    b = int(input(f\"number {i+1}: \"))\n",
    "    a.append(b)\n",
    "even = []\n",
    "odd = []\n",
    "for i in a:\n",
    "    if i % 2 == 0:\n",
    "        even.append(i)\n",
    "    else:\n",
    "        odd.append(i)\n",
    "print(\"even numbers:\", set(even))\n",
    "print(\"odd numbers:\", set(odd))"
   ]
  },
  {
   "cell_type": "code",
   "execution_count": null,
   "id": "2e772420",
   "metadata": {},
   "outputs": [
    {
     "name": "stdout",
     "output_type": "stream",
     "text": [
      "string sai\n",
      "letters s\n",
      "letters a\n",
      "letters i\n",
      "string Sai\n",
      "letters S\n",
      "letters a\n",
      "letters i\n",
      "string vivek \n",
      "letters v\n",
      "letters i\n",
      "letters v\n",
      "letters e\n",
      "letters k\n",
      "letters  \n",
      "unique characters: {'k', ' ', 'a', 's', 'S', 'v', 'i', 'e'}\n"
     ]
    }
   ],
   "source": [
    "#c. Write a Python program that takes a list of strings as input and creates a set of unique characters found in all the strings. Display the set of characters.\n",
    "a =[]\n",
    "n = int(input(\"length of list:\"))\n",
    "for i in range(n):\n",
    "    b = input(f\"string {i+1}: \")\n",
    "    a.append(b)\n",
    "\n",
    "\n",
    "unique = []\n",
    "for i in a:\n",
    "    print(\"string\",i)\n",
    "   \n",
    "    for j in i:\n",
    "        print( 'letters', j)\n",
    "        if j not in unique:\n",
    "\n",
    "            unique.append(upper(j))\n",
    "print(\"unique characters:\", set(unique))\n"
   ]
  },
  {
   "cell_type": "markdown",
   "id": "8e3b24de",
   "metadata": {},
   "source": [
    "Dictionary"
   ]
  },
  {
   "cell_type": "code",
   "execution_count": 13,
   "id": "9fe6ec50",
   "metadata": {},
   "outputs": [
    {
     "name": "stdout",
     "output_type": "stream",
     "text": [
      "Original dictionary: {'apple': 3, 'banana': 2, 'orange': 1}\n",
      "Swapped dictionary: {3: 'apple', 2: 'banana', 1: 'orange'}\n"
     ]
    }
   ],
   "source": [
    "#a. Write a Python program that takes a dictionary of items and their prices. Create a new dictionary by swapping the keys and values and display the new dictionary.\n",
    "a = {'apple': 3, 'banana': 2, 'orange': 1}\n",
    "b = {}\n",
    "for key, value in a.items():\n",
    "    b[value] = key # Swap keys and values  \n",
    "print(\"Original dictionary:\", a)\n",
    "print(\"Swapped dictionary:\", b)\n"
   ]
  },
  {
   "cell_type": "code",
   "execution_count": null,
   "id": "41d5f8f7",
   "metadata": {},
   "outputs": [],
   "source": [
    "#b. Write a Python program that takes a dictionary of students and their marks in different subjects as input. Use a dictionary comprehension to create a new dictionary with only the students who scored above a certain mark in all subjects. Display the new dictionary.\n",
    "a = {'John': {'math': 85, 'science': 90, 'english': 78\n",
    "}, 'Alice': {'math': 92, 'science': 88, 'english': 95}, 'Bob': {'math': 70, 'science': 75, 'english': 80}}\n",
    "threshold = 80\n",
    "new_dict = {student: marks for student, marks in a.items() if all(mark >= threshold for mark in marks.values())}\n",
    "print(\"Original dictionary:\", a)\n",
    "print(\"New dictionary with students scoring above threshold in all subjects:\", new_dict)\n"
   ]
  }
 ],
 "metadata": {
  "kernelspec": {
   "display_name": "Python 3",
   "language": "python",
   "name": "python3"
  },
  "language_info": {
   "codemirror_mode": {
    "name": "ipython",
    "version": 3
   },
   "file_extension": ".py",
   "mimetype": "text/x-python",
   "name": "python",
   "nbconvert_exporter": "python",
   "pygments_lexer": "ipython3",
   "version": "3.12.4"
  }
 },
 "nbformat": 4,
 "nbformat_minor": 5
}
